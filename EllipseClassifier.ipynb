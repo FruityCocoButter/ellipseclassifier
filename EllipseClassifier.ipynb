{
 "cells": [
  {
   "cell_type": "code",
   "execution_count": 79,
   "id": "e56fbe17",
   "metadata": {},
   "outputs": [
    {
     "name": "stdout",
     "output_type": "stream",
     "text": [
      "[(8.8634865271384, 10.614864092093319), (2.8433370069924626, -12.723692772406817), (7.48304331435215, -7.586616062133008), (-6.03861406196606, -9.65149818001398), (-0.3314238186489993, 8.348747428165073), (-6.040461264913866, -8.674156309027163), (-13.377405459168346, -3.214308218230757), (14.583614167405166, 5.6863103129448795), (13.000250553912494, 13.190015502360126), (6.664316198144097, -5.630981821836198), (14.68284388132339, -4.791034644198122), (-7.008220275931793, 7.9991122895757165), (12.318227745912667, 5.157574861148019), (-3.4547035913978097, -12.359950687048622), (-5.790326447989985, 12.834789053613614)]\n",
      "[(2.386417332093057, -3.753341298744629), (4.262690871534192, 4.614909638527417), (-5.095657396060693, 1.239479560411102), (5.220237449661537, -3.5420661049110413), (0.6937064805599236, 1.5661121475182294)]\n"
     ]
    }
   ],
   "source": [
    "import random\n",
    "\n",
    "red_points = []\n",
    "blue_points = []\n",
    "for i in range(0, 20):\n",
    "    x = (random.random() - 0.5)*30\n",
    "    y = (random.random() - 0.5)*30\n",
    "    \n",
    "    locator = x**2/100 + y**2/49\n",
    "    \n",
    "    if locator <= 1:\n",
    "        red_points.append((x, y))\n",
    "        \n",
    "    else:\n",
    "        blue_points.append((x, y))\n",
    "        \n",
    "print(blue_points)\n",
    "print(red_points)\n"
   ]
  },
  {
   "cell_type": "code",
   "execution_count": 2,
   "id": "af198abd",
   "metadata": {},
   "outputs": [
    {
     "name": "stdout",
     "output_type": "stream",
     "text": [
      "[(12.320429295801672, 7.845013173501943), (10.042353239562441, 12.84856365455259), (11.285702498007689, 6.334236242137204), (3.72298814156575, 8.621684755050355), (14.442167355184747, 4.7747109416874), (14.70180121736945, 8.690631840201133), (10.459037562340306, 5.2455518082850805), (13.067766175122427, 6.736326335329249), (12.813266453537281, 14.234047194087736), (8.246572877184972, 13.537244547610609), (13.220055598463547, 6.112368093568605), (10.782186633813806, 10.406923115574848), (6.135264860030355, 10.092389690300154), (8.591946338811978, 6.800319524398796), (7.938869071544814, 8.359158842100442)]\n"
     ]
    }
   ],
   "source": [
    "print(blue_points)"
   ]
  },
  {
   "cell_type": "code",
   "execution_count": 26,
   "id": "514907e2",
   "metadata": {},
   "outputs": [],
   "source": [
    "import math\n",
    "\n",
    "def entropy(colours):\n",
    "    num_blue = 0\n",
    "    num_red = 0\n",
    "    \n",
    "    size = len(colours)\n",
    "    if size == 0:\n",
    "        return 0\n",
    "    \n",
    "    for i in colours:\n",
    "        if i == \"blue\":\n",
    "            num_blue += 1\n",
    "    num_red = size - num_blue\n",
    "    \n",
    "    p_blue = num_blue/size\n",
    "    p_red = num_red/size\n",
    "    \n",
    "    if p_blue == 0:\n",
    "        p_blue = 1\n",
    "    if p_red == 0:\n",
    "        p_red = 1\n",
    "    \n",
    "    H = -(p_blue*math.log(p_blue, 2) + p_red*math.log(p_red, 2))\n",
    "    \n",
    "    return H\n",
    "    "
   ]
  },
  {
   "cell_type": "code",
   "execution_count": 27,
   "id": "2d9c006b",
   "metadata": {},
   "outputs": [],
   "source": [
    "def split(points, colours):\n",
    "    H = 100\n",
    "    size = len(points)\n",
    "    if size == 0:\n",
    "        return \n",
    "    split = [0, \"x\"]\n",
    "\n",
    "    left_p = []\n",
    "    left_c = []\n",
    "    right_p = []\n",
    "    right_c = []\n",
    "    \n",
    "    for point in points:     \n",
    "        split_x = point[0]   #x\n",
    "        split_y = point[1]  #y\n",
    "        \n",
    "        left_points = []\n",
    "        left_colours = []\n",
    "        right_points = []        \n",
    "        right_colours = []\n",
    "            \n",
    "        #split across x\n",
    "        for i in range(0, size):\n",
    "            if points[i][0] < split_x:\n",
    "                left_points.append(points[i])\n",
    "                left_colours.append(colours[i])\n",
    "            else:\n",
    "                right_points.append(points[i])\n",
    "                right_colours.append(colours[i])\n",
    "                \n",
    "        num_left = len(left_points)\n",
    "        num_right = size - num_left\n",
    "        w_left = num_left/size\n",
    "        w_right = num_right/size\n",
    "        \n",
    "        H_new = w_left*entropy(left_colours) + w_right*entropy(right_colours)\n",
    "        if H_new < H:\n",
    "            H = H_new\n",
    "            split[0] = split_x\n",
    "            split[1] = \"x\"\n",
    "            left_p = left_points\n",
    "            left_c = left_colours\n",
    "            right_p = right_points\n",
    "            right_c = right_colours\n",
    "            \n",
    "        \n",
    "        #split across y\n",
    "        left_points = []\n",
    "        left_colours = []\n",
    "        right_points = []        \n",
    "        right_colours = []\n",
    "        \n",
    "        for i in range(0, size):\n",
    "            if points[i][1] < split_y:\n",
    "                left_points.append(points[i])\n",
    "                left_colours.append(colours[i])\n",
    "            else:\n",
    "                right_points.append(points[i])\n",
    "                right_colours.append(colours[i])\n",
    "                \n",
    "        num_left = len(left_points)\n",
    "        num_right = size - num_left\n",
    "        w_left = num_left/size\n",
    "        w_right = num_right/size\n",
    "        \n",
    "        H_new = w_left*entropy(left_colours) + w_right*entropy(right_colours)\n",
    "        if H_new < H:\n",
    "            H = H_new\n",
    "            split[0] = split_y\n",
    "            split[1] = \"y\"\n",
    "            left_p = left_points\n",
    "            left_c = left_colours\n",
    "            right_p = right_points\n",
    "            right_c = right_colours\n",
    "    \n",
    "    return [left_p, left_c, right_p, right_c, split]\n",
    "    \n",
    "        \n",
    "    \n",
    "        \n",
    "        "
   ]
  },
  {
   "cell_type": "code",
   "execution_count": 11,
   "id": "bd4c14e1",
   "metadata": {},
   "outputs": [
    {
     "ename": "ValueError",
     "evalue": "math domain error",
     "output_type": "error",
     "traceback": [
      "\u001b[1;31m---------------------------------------------------------------------------\u001b[0m",
      "\u001b[1;31mValueError\u001b[0m                                Traceback (most recent call last)",
      "Input \u001b[1;32mIn [11]\u001b[0m, in \u001b[0;36m<cell line: 1>\u001b[1;34m()\u001b[0m\n\u001b[1;32m----> 1\u001b[0m \u001b[38;5;28mprint\u001b[39m(\u001b[43mentropy\u001b[49m\u001b[43m(\u001b[49m\u001b[43m[\u001b[49m\u001b[38;5;241;43m0\u001b[39;49m\u001b[43m,\u001b[49m\u001b[43m \u001b[49m\u001b[38;5;241;43m1\u001b[39;49m\u001b[43m,\u001b[49m\u001b[43m \u001b[49m\u001b[38;5;241;43m1\u001b[39;49m\u001b[43m,\u001b[49m\u001b[43m \u001b[49m\u001b[38;5;241;43m0\u001b[39;49m\u001b[43m,\u001b[49m\u001b[43m \u001b[49m\u001b[38;5;241;43m1\u001b[39;49m\u001b[43m]\u001b[49m\u001b[43m)\u001b[49m)\n",
      "Input \u001b[1;32mIn [9]\u001b[0m, in \u001b[0;36mentropy\u001b[1;34m(colours)\u001b[0m\n\u001b[0;32m     21\u001b[0m p_blue \u001b[38;5;241m=\u001b[39m num_blue\u001b[38;5;241m/\u001b[39msize\n\u001b[0;32m     22\u001b[0m p_red \u001b[38;5;241m=\u001b[39m num_red\u001b[38;5;241m/\u001b[39msize\n\u001b[1;32m---> 24\u001b[0m H \u001b[38;5;241m=\u001b[39m \u001b[38;5;241m-\u001b[39m(p_blue\u001b[38;5;241m*\u001b[39m\u001b[43mmath\u001b[49m\u001b[38;5;241;43m.\u001b[39;49m\u001b[43mlog\u001b[49m\u001b[43m(\u001b[49m\u001b[43mp_blue\u001b[49m\u001b[43m,\u001b[49m\u001b[43m \u001b[49m\u001b[38;5;241;43m2\u001b[39;49m\u001b[43m)\u001b[49m \u001b[38;5;241m+\u001b[39m p_red\u001b[38;5;241m*\u001b[39mmath\u001b[38;5;241m.\u001b[39mlog(p_red, \u001b[38;5;241m2\u001b[39m))\n\u001b[0;32m     26\u001b[0m \u001b[38;5;28;01mreturn\u001b[39;00m H\n",
      "\u001b[1;31mValueError\u001b[0m: math domain error"
     ]
    }
   ],
   "source": [
    "print(entropy([0, 1, 1, 0, 1]))"
   ]
  },
  {
   "cell_type": "code",
   "execution_count": 17,
   "id": "c040e1c6",
   "metadata": {},
   "outputs": [
    {
     "name": "stdout",
     "output_type": "stream",
     "text": [
      "0.9709505944546686\n"
     ]
    }
   ],
   "source": [
    "print(entropy([\"red\", \"blue\", \"red\", \"blue\", \"blue\"]))"
   ]
  },
  {
   "cell_type": "code",
   "execution_count": 16,
   "id": "04e1afce",
   "metadata": {},
   "outputs": [
    {
     "name": "stdout",
     "output_type": "stream",
     "text": [
      "-0.0\n"
     ]
    }
   ],
   "source": [
    "print(entropy([\"red\", \"red\"]))"
   ]
  },
  {
   "cell_type": "code",
   "execution_count": 29,
   "id": "53bb28d4",
   "metadata": {},
   "outputs": [
    {
     "name": "stdout",
     "output_type": "stream",
     "text": [
      "[[], [], [(0, 1), (2, 0), (3, 2.5), (1, 4), (2.5, 3)], ['red', 'red', 'red', 'red', 'red'], [0, 'x']]\n"
     ]
    }
   ],
   "source": [
    "points = [(0,1), (2, 0), (3, 2.5), (1, 4), (2.5, 3)]\n",
    "colours = [\"red\", \"red\", \"red\", \"red\", \"red\"]\n",
    "\n",
    "print(split(points, colours))"
   ]
  },
  {
   "cell_type": "code",
   "execution_count": 76,
   "id": "8c57a3e5",
   "metadata": {},
   "outputs": [],
   "source": [
    "class TreeNode:\n",
    "    def __init__(self, points, colours):\n",
    "        #node data\n",
    "        self.points = points\n",
    "        self.colours = colours\n",
    "        \n",
    "        split_result = split(points, colours)\n",
    "        \n",
    "        left = split_result[0: 2]\n",
    "        right = split_result[2: 4]\n",
    "        \n",
    "        \n",
    "        if len(left[0]) != 0 and entropy(colours) != 0:\n",
    "            self.left = TreeNode(left[0], left[1])\n",
    "        else:\n",
    "            self.left = \"null\"\n",
    "            \n",
    "        if len(right[0]) != 0 and entropy(colours) != 0:\n",
    "            self.right = TreeNode(right[0], right[1])\n",
    "        else:\n",
    "            self.right = \"null\"\n",
    "        self.split = split_result[4]\n",
    "        \n",
    "    def traverse(self, data):\n",
    "        print(str(self.points) + \" \" + str(self.colours))\n",
    "        \n",
    "        if self.left == \"null\" and self.right == \"null\":\n",
    "            return self.colours[0]\n",
    "        \n",
    "        else:\n",
    "            if self.split[1] ==\"x\":\n",
    "                if data[0] < self.split[0]:\n",
    "                    return self.left.traverse(data)\n",
    "                    \n",
    "                    \n",
    "                else:\n",
    "                    return self.right.traverse(data)\n",
    "            \n",
    "            else:\n",
    "                if data[1] < self.split[0]:\n",
    "                    return self.left.traverse(data)\n",
    "                \n",
    "                else:\n",
    "                    return self.right.traverse(data)\n",
    "        \n",
    "        \n",
    "            \n",
    "        \n",
    "        "
   ]
  },
  {
   "cell_type": "code",
   "execution_count": 77,
   "id": "bd1ef60c",
   "metadata": {},
   "outputs": [
    {
     "name": "stdout",
     "output_type": "stream",
     "text": [
      "[(0, 1), (2, 0), (3, 2.5), (1, 4), (2.5, 3)] ['blue', 'blue', 'red', 'red', 'red']\n",
      "[(0, 1), (2, 0)] ['blue', 'blue']\n",
      "blue\n"
     ]
    }
   ],
   "source": [
    "points = [(0,1), (2, 0), (3, 2.5), (1, 4), (2.5, 3)]\n",
    "colours = [\"blue\", \"blue\", \"red\", \"red\", \"red\"]\n",
    "\n",
    "node = TreeNode(points, colours)\n",
    "result = node.traverse([2, 1])\n",
    "\n",
    "print(result)"
   ]
  },
  {
   "cell_type": "code",
   "execution_count": 83,
   "id": "8a6fe538",
   "metadata": {},
   "outputs": [
    {
     "name": "stdout",
     "output_type": "stream",
     "text": [
      "[(8.8634865271384, 10.614864092093319), (2.8433370069924626, -12.723692772406817), (7.48304331435215, -7.586616062133008), (-6.03861406196606, -9.65149818001398), (-0.3314238186489993, 8.348747428165073), (-6.040461264913866, -8.674156309027163), (-13.377405459168346, -3.214308218230757), (14.583614167405166, 5.6863103129448795), (13.000250553912494, 13.190015502360126), (6.664316198144097, -5.630981821836198), (14.68284388132339, -4.791034644198122), (-7.008220275931793, 7.9991122895757165), (12.318227745912667, 5.157574861148019), (-3.4547035913978097, -12.359950687048622), (-5.790326447989985, 12.834789053613614), (2.386417332093057, -3.753341298744629), (4.262690871534192, 4.614909638527417), (-5.095657396060693, 1.239479560411102), (5.220237449661537, -3.5420661049110413), (0.6937064805599236, 1.5661121475182294)] ['blue', 'blue', 'blue', 'blue', 'blue', 'blue', 'blue', 'blue', 'blue', 'blue', 'blue', 'blue', 'blue', 'blue', 'blue', 'red', 'red', 'red', 'red', 'red']\n",
      "[(8.8634865271384, 10.614864092093319), (7.48304331435215, -7.586616062133008), (14.583614167405166, 5.6863103129448795), (13.000250553912494, 13.190015502360126), (6.664316198144097, -5.630981821836198), (14.68284388132339, -4.791034644198122), (12.318227745912667, 5.157574861148019)] ['blue', 'blue', 'blue', 'blue', 'blue', 'blue', 'blue']\n",
      "blue\n"
     ]
    }
   ],
   "source": [
    "points = []\n",
    "colours = []\n",
    "\n",
    "for i in blue_points:\n",
    "    colours.append(\"blue\")\n",
    "    points.append(i)\n",
    "    \n",
    "for i in red_points:\n",
    "    colours.append(\"red\")\n",
    "    points.append(i)\n",
    "    \n",
    "node = TreeNode(points, colours)\n",
    "result = node.traverse([11, 4])\n",
    "\n",
    "print(result)"
   ]
  },
  {
   "cell_type": "code",
   "execution_count": null,
   "id": "9c6adc75",
   "metadata": {},
   "outputs": [],
   "source": []
  }
 ],
 "metadata": {
  "kernelspec": {
   "display_name": "Python 3",
   "language": "python",
   "name": "python3"
  },
  "language_info": {
   "codemirror_mode": {
    "name": "ipython",
    "version": 3
   },
   "file_extension": ".py",
   "mimetype": "text/x-python",
   "name": "python",
   "nbconvert_exporter": "python",
   "pygments_lexer": "ipython3",
   "version": "3.10.4"
  }
 },
 "nbformat": 4,
 "nbformat_minor": 5
}
